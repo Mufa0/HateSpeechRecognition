{
 "cells": [
  {
   "cell_type": "code",
   "execution_count": 20,
   "metadata": {},
   "outputs": [],
   "source": [
    "import re\n",
    "def clean_text(rgx_list, text):\n",
    "    new_text = text\n",
    "    for rgx_match in rgx_list:\n",
    "        new_text = re.sub(rgx_match, '', new_text)\n",
    "    return new_text"
   ]
  },
  {
   "cell_type": "code",
   "execution_count": 44,
   "metadata": {},
   "outputs": [
    {
     "name": "stdout",
     "output_type": "stream",
     "text": [
      "[nltk_data] Downloading package stopwords to /home/mufa/nltk_data...\n",
      "[nltk_data]   Package stopwords is already up-to-date!\n",
      "[nltk_data] Downloading package punkt to /home/mufa/nltk_data...\n",
      "[nltk_data]   Package punkt is already up-to-date!\n",
      "[['woman', 'shouldnt', 'complain', 'cleaning', 'house', 'man', 'always', 'take', 'trash'], ['boy', 'dats', 'coldtyga', 'dwn', 'bad', 'cuffin', 'dat', 'hoe', '1st', 'place'], ['ever', 'fuck', 'bitch', 'start', 'cry', 'confused', 'shit'], ['look', 'like', 'tranny'], ['shit', 'hear', 'might', 'true', 'might', 'faker', 'bitch', 'told', 'ya'], ['shit', 'blows', 'meclaim', 'faithful', 'somebody', 'still', 'fucking', 'hoes'], ['sit', 'hate', 'another', 'bitch', 'got', 'much', 'shit', 'going'], ['cause', 'im', 'tired', 'big', 'bitches', 'coming', 'us', 'skinny', 'girls'], ['might', 'get', 'ya', 'bitch', 'back', 'thats'], ['fighting', 'mariam', 'bitch'], ['keeks', 'bitch', 'curves', 'everyone', 'lol', 'walked', 'conversation', 'like', 'smh'], ['murda', 'gang', 'bitch', 'gang', 'land'], ['hoes', 'smoke', 'losers', 'yea', 'go', 'ig'], ['bad', 'bitches', 'thing', 'like'], ['bitch', 'get'], ['bitch', 'nigga', 'miss'], ['bitch', 'plz', 'whatever'], ['bitch', 'love'], ['bitches', 'get', 'cut', 'everyday', 'b'], ['black', 'bottle', 'bad', 'bitch']]\n"
     ]
    }
   ],
   "source": [
    "#Initialization for HateSpeechRecognition\n",
    "import scipy as sp\n",
    "import numpy as np\n",
    "import pandas as pd\n",
    "import sklearn\n",
    "import nltk\n",
    "from nltk.corpus import stopwords\n",
    "from nltk.tokenize import word_tokenize\n",
    "\n",
    "nltk.download('stopwords')\n",
    "nltk.download('punkt')\n",
    "\n",
    "stopwords_list = stopwords.words('english')\n",
    "#other_exclusions = [\"#ff\", \"ff\", \"rt\",\"!\",\":\",\"...\",\".\",\"-\",\"&\",\"?\"]\n",
    "#stopwords_list.extend(other_exclusions)\n",
    "\n",
    "dataset = pd.read_csv(\"dataset/labeled_data.csv\")\n",
    "\n",
    "tweets = dataset.tweet\n",
    "\n",
    "ps = nltk.stem.PorterStemmer()\n",
    "\n",
    "#ps.stem(dataset)\n",
    "filtered_tweets=[];\n",
    "for tweet in tweets:\n",
    "    tweet = clean_text([\".*@.*:\",\"&#*\\w*\",\"@[\\w\\-]+\",\"[^\\w\\s]\",\"http[s]?://(?:[a-zA-Z]|[0-9]|[$-_@.&+][!*\\(\\),]|(?:%[0-9a-fA-F][0-9a-fA-F]))+\"],tweet)\n",
    "    tweet = tweet.lower()\n",
    "    word_tokens = word_tokenize(tweet)\n",
    "    filtered_tweets.append([word for word in word_tokens if not word in stopwords_list])\n",
    "\n",
    "print(filtered_tweets[0:20])\n",
    "\n"
   ]
  },
  {
   "cell_type": "code",
   "execution_count": null,
   "metadata": {},
   "outputs": [],
   "source": []
  }
 ],
 "metadata": {
  "kernelspec": {
   "display_name": "Python 3",
   "language": "python",
   "name": "python3"
  },
  "language_info": {
   "codemirror_mode": {
    "name": "ipython",
    "version": 3
   },
   "file_extension": ".py",
   "mimetype": "text/x-python",
   "name": "python",
   "nbconvert_exporter": "python",
   "pygments_lexer": "ipython3",
   "version": "3.6.4"
  }
 },
 "nbformat": 4,
 "nbformat_minor": 2
}

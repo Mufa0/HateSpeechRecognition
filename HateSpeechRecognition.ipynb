{
 "cells": [
  {
   "cell_type": "code",
   "execution_count": 50,
   "metadata": {},
   "outputs": [
    {
     "name": "stdout",
     "output_type": "stream",
     "text": [
      "[nltk_data] Downloading package stopwords to /home/mufa/nltk_data...\n",
      "[nltk_data]   Package stopwords is already up-to-date!\n",
      "[nltk_data] Downloading package punkt to /home/mufa/nltk_data...\n",
      "[nltk_data]   Package punkt is already up-to-date!\n",
      "[nltk_data] Downloading package averaged_perceptron_tagger to\n",
      "[nltk_data]     /home/mufa/nltk_data...\n",
      "[nltk_data]   Unzipping taggers/averaged_perceptron_tagger.zip.\n"
     ]
    },
    {
     "data": {
      "text/plain": [
       "True"
      ]
     },
     "execution_count": 50,
     "metadata": {},
     "output_type": "execute_result"
    }
   ],
   "source": [
    "#Initialization for HateSpeechRecognition\n",
    "import scipy as sp\n",
    "import numpy as np\n",
    "import pandas as pd\n",
    "import sklearn\n",
    "import nltk\n",
    "import re\n",
    "from nltk.corpus import stopwords\n",
    "from nltk.tokenize import word_tokenize\n",
    "\n",
    "nltk.download('stopwords')\n",
    "nltk.download('punkt')\n",
    "nltk.download('averaged_perceptron_tagger')"
   ]
  },
  {
   "cell_type": "code",
   "execution_count": 51,
   "metadata": {},
   "outputs": [],
   "source": [
    "\n",
    "def clean_text(rgx_list, text):\n",
    "    new_text = text\n",
    "    for rgx_match in rgx_list:\n",
    "        new_text = re.sub(rgx_match, '', new_text)\n",
    "    return new_text"
   ]
  },
  {
   "cell_type": "code",
   "execution_count": 58,
   "metadata": {},
   "outputs": [
    {
     "name": "stdout",
     "output_type": "stream",
     "text": [
      "[[('momma', 'NN'), ('said', 'VBD'), ('pussy', 'JJ'), ('cats', 'NNS'), ('inside', 'IN'), ('doghouse', 'NN')], [('hated', 'VBN'), ('hoes', 'NNS'), ('favorite', 'RB'), ('2mw', 'CD'), ('sevenone', 'NN')], [('nice', 'JJ'), ('girls', 'NNS'), ('bad', 'JJ'), ('make', 'VBP'), ('get', 'VB'), ('naughty', 'JJ'), ('bad', 'JJ'), ('yello', 'NN'), ('hoe', 'NN'), ('real', 'JJ'), ('nice', 'JJ'), ('body', 'NN'), ('south', 'JJ'), ('chick', 'NN'), ('like', 'IN'), ('em', 'JJ'), ('real', 'JJ'), ('thick', 'NN')], [('pimps', 'NNS'), ('pimps', 'NNS'), ('hoes', 'NNS'), ('future', 'JJ'), ('voice', 'NN')], [('post', 'NN'), ('picture', 'NN'), ('pussy', 'NN'), ('get', 'VBP'), ('200', 'CD'), ('likes', 'NNS')], [('pussy', 'JJ'), ('powerful', 'JJ'), ('drug', 'NN'), ('happyhumpday', 'NN')], [('quick', 'JJ'), ('piece', 'NN'), ('pussy', 'NN'), ('call', 'NN'), ('drive', 'NN')], [('running', 'VBG'), ('round', 'NN'), ('like', 'IN'), ('brand', 'NN'), ('new', 'JJ'), ('pussy', 'JJ'), ('thats', 'NNS'), ('bout', 'VBP'), ('get', 'NN'), ('fucked', 'VBN')], [('bitches', 'NNS'), ('even', 'RB'), ('worst', 'VBP'), ('theyll', 'NNS'), ('send', 'VBP'), ('guys', 'NNS')], [('hoes', 'NNS'), ('like', 'IN'), ('niggas', 'NNS'), ('spend', 'VBP'), ('money', 'NN'), ('talk', 'NN'), ('bout', 'IN')], [('dont', 'JJ'), ('trust', 'NN'), ('niggas', 'NN'), ('bitches', 'NNS')], [('yall', 'NN'), ('niggas', 'NN'), ('b', 'NN'), ('cuffing', 'NN'), ('hoes', 'NNS'), ('cause', 'VB'), ('yall', 'DT'), ('aint', 'NN'), ('never', 'RB'), ('bitches', 'NNS')], [('da', 'NN'), ('bitches', 'NNS'), ('cut', 'VBD'), ('pregnant', 'JJ'), ('bound', 'IN'), ('thank', 'NN'), ('god', 'NN')], [('young', 'JJ'), ('pill', 'NN'), ('chamberlain', 'NN'), ('bitches', 'NNS'), ('love', 'VBP'), ('music', 'NN')], [('teanna', 'NN'), ('trump', 'NN'), ('probably', 'RB'), ('cleaner', 'VBD'), ('twitter', 'NN'), ('hoes', 'NNS')], [('gay', 'NN'), ('niggas', 'NN'), ('couldnt', 'NN'), ('wait', 'VBP'), ('act', 'NN'), ('like', 'IN'), ('bitches', 'NNS'), ('tonight', 'VBD')], [('bitch', 'NN')], [('hes', 'NNS'), ('gone', 'VBN'), ('always', 'RB'), ('hoe', 'VB')], [('son', 'NN'), ('bitch', 'NN'), ('took', 'VBD'), ('tic', 'JJ'), ('tacs', 'NN'), ('like', 'IN'), ('movie', 'NN')], [('wan', 'NN'), ('na', 'TO'), ('get', 'VB'), ('money', 'NN'), ('fuck', 'VBN'), ('model', 'NN'), ('bitches', 'NNS'), ('russell', 'VBP'), ('simmons', 'NNS')]]\n"
     ]
    }
   ],
   "source": [
    "\n",
    "stopwords_list = stopwords.words('english')\n",
    "#other_exclusions = [\"#ff\", \"ff\", \"rt\",\"!\",\":\",\"...\",\".\",\"-\",\"&\",\"?\"]\n",
    "#stopwords_list.extend(other_exclusions)\n",
    "\n",
    "dataset = pd.read_csv(\"dataset/labeled_data.csv\")\n",
    "\n",
    "tweets = dataset.tweet\n",
    "\n",
    "ps = nltk.stem.PorterStemmer()\n",
    "\n",
    "#ps.stem(dataset)\n",
    "\n",
    "#Text cleaning and tokenization, then stemming then POS tagging\n",
    "filtered_tweets=[];\n",
    "tweet_tags = [];\n",
    "filtered_tweets_stemmed=[];\n",
    "\n",
    "for tweet in tweets:\n",
    "    tweet = clean_text([\"http[s]?://(?:[a-zA-Z]|[0-9]|[$-_@.&+]|[!*\\(\\),]|(?:%[0-9a-fA-F][0-9a-fA-F]))+\",\".*@.*:\",\"&#*\\w*\",\"@[\\w\\-]+\",\"[^\\w\\s]\"],tweet)\n",
    "    tweet = tweet.lower()\n",
    "    word_tokens = word_tokenize(tweet)\n",
    "    filtered_tweets.append([word for word in word_tokens if not word in stopwords_list])\n",
    "    filtered_tweets_stemmed.append([ps.stem(word) for word in word_tokens if not word in stopwords_list])\n",
    "    \n",
    "for tweet in filtered_tweets:\n",
    "    tweet_tags.append(nltk.pos_tag(tweet))\n",
    "\n"
   ]
  },
  {
   "cell_type": "code",
   "execution_count": null,
   "metadata": {},
   "outputs": [],
   "source": []
  }
 ],
 "metadata": {
  "kernelspec": {
   "display_name": "Python 3",
   "language": "python",
   "name": "python3"
  },
  "language_info": {
   "codemirror_mode": {
    "name": "ipython",
    "version": 3
   },
   "file_extension": ".py",
   "mimetype": "text/x-python",
   "name": "python",
   "nbconvert_exporter": "python",
   "pygments_lexer": "ipython3",
   "version": "3.6.4"
  }
 },
 "nbformat": 4,
 "nbformat_minor": 2
}
